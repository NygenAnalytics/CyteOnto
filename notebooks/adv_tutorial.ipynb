{
 "cells": [
  {
   "cell_type": "markdown",
   "id": "ccb5708a",
   "metadata": {},
   "source": [
    "# CyteOnto\n",
    "\n",
    "Semantic Cell Type Annotation Comparison Using Large Language Models and Cell Ontology\n",
    "\n",
    "## Advanced tutorial\n",
    "\n",
    "This notebook demonstrates advanced usage of CyteOnto for semantic cell type annotation comparison, including custom embedding generation and ...\n"
   ]
  },
  {
   "cell_type": "markdown",
   "id": "ddb88643",
   "metadata": {},
   "source": [
    "### Prerequisites\n",
    "\n",
    "Before you begin, ensure you have the following:\n",
    "\n",
    "- Python 3.12+\n",
    "- UV package manager (recommended)\n",
    "\n",
    "Navigate to `CyteOnto` directory and install the required packages:\n",
    "\n",
    "```bash\n",
    "uv sync\n",
    "```"
   ]
  },
  {
   "cell_type": "markdown",
   "id": "f5cbc80c",
   "metadata": {},
   "source": [
    "### 1. Set API Keys as Environment Variables\n",
    " \n",
    "```bash\n",
    "LLM_API_KEY=your_api_key_here               # For example OpenAI (can be other like groq, openrouter, google, xai, deepinfra, etc.)\n",
    "EMBEDDING_MODEL_API_KEY=your_api_key_here   # Cane be same as above if embedding model is from the same provider\n",
    " \n",
    "# Optional: for higher rate limits\n",
    "NCBI_API_KEY=your_ncbi_api_key_here         # for using pubmed tool calls\n",
    "```"
   ]
  },
  {
   "cell_type": "code",
   "execution_count": 3,
   "id": "f023e07c",
   "metadata": {},
   "outputs": [],
   "source": [
    "# Path management, only for running `cyteonto` from notebooks directory\n",
    "import sys\n",
    "sys.path.append(\"..\")"
   ]
  },
  {
   "cell_type": "code",
   "execution_count": 4,
   "id": "dc18996f",
   "metadata": {},
   "outputs": [],
   "source": [
    "import os\n",
    "\n",
    "from pydantic_ai import Agent\n",
    "from pydantic_ai.models.openai import OpenAIModel\n",
    "from pydantic_ai.providers.openai import OpenAIProvider\n"
   ]
  },
  {
   "cell_type": "markdown",
   "id": "6120188d",
   "metadata": {},
   "source": [
    "You can check out [Pydantic AI's Model Documentation](https://ai.pydantic.dev/models/) for more information on how to initialize agents using various model providers such as `OpenAI`, `Anthropic`, `Gemini`, `Groq`, `Mistral`, etc.\n",
    "\n",
    "In addition, many providers are compatible with the OpenAI API, and can be used with `OpenAIModel` in Pydantic AI: `DeepSeek`, `Grok (xAI)`, `Ollama` (for locally hosted models), etc.\n",
    "\n",
    "We will use `OpenAIModel` for our initialization of a `moonshotai/Kimi-K2-Instruct` model from `deepinfra` as an agent. The `OpenAIProvider` is used to provide the openai compatible endpoint for `deepinfra`."
   ]
  },
  {
   "cell_type": "code",
   "execution_count": 5,
   "id": "c5c6c988",
   "metadata": {},
   "outputs": [],
   "source": [
    "model = OpenAIModel(\n",
    "    \"moonshotai/Kimi-K2-Instruct\",\n",
    "    provider=OpenAIProvider(\n",
    "        base_url=\"https://api.deepinfra.com/v1/openai\",\n",
    "        api_key=os.getenv(\"LLM_API_KEY\"),\n",
    "    ),\n",
    ")\n",
    "agent = Agent(model)"
   ]
  },
  {
   "cell_type": "markdown",
   "id": "d62909bf",
   "metadata": {},
   "source": [
    "### 2. Generate Embeddings \n",
    "\n",
    "You can generate the descriptions and embeddings for Cell Ontology for using your preferred model by calling the `cyteonto.setup` function. You will need to provide the `embedding_model` and `embedding_provider` parameters to the `cyteonto.setup` function. Currenly, only `deepinfra`, `ollama`, `openai`, and `google` are supported as providers.\n",
    "\n",
    "This is a one time operation that will create the necessary embeddings for your ontology at `cyteonto/data/embedding`. For more information on managing locations, you can refer to the [`docs/FILE_MANAGEMENT.md`](../docs/FILE_MANAGEMENT.md) documentation."
   ]
  },
  {
   "cell_type": "code",
   "execution_count": 8,
   "id": "f0015b40",
   "metadata": {},
   "outputs": [],
   "source": [
    "import cyteonto"
   ]
  },
  {
   "cell_type": "code",
   "execution_count": null,
   "id": "21c2b145",
   "metadata": {},
   "outputs": [],
   "source": [
    "# This may take a while\n",
    "await cyteonto.setup(\n",
    "    base_agent=agent,\n",
    "    embedding_model=\"Qwen/Qwen3-Embedding-8B\",\n",
    "    embedding_provider=\"deepinfra\",\n",
    ")"
   ]
  },
  {
   "cell_type": "markdown",
   "id": "8801986f",
   "metadata": {},
   "source": [
    "### 3. Initialize CyteOnto with LLM and Embedding model"
   ]
  },
  {
   "cell_type": "code",
   "execution_count": 11,
   "id": "97651169",
   "metadata": {},
   "outputs": [
    {
     "name": "stdout",
     "output_type": "stream",
     "text": [
      "INFO: Loading ontology embeddings from /home/oskbor/Documents/onto-package/CyteOnto/notebooks/../cyteonto/data/embedding/cell_ontology/embeddings_moonshotai-Kimi-K2-Instruct_Qwen-Qwen3-Embedding-8B.npz\n",
      "INFO: Loaded 2902 embeddings from /home/oskbor/Documents/onto-package/CyteOnto/notebooks/../cyteonto/data/embedding/cell_ontology/embeddings_moonshotai-Kimi-K2-Instruct_Qwen-Qwen3-Embedding-8B.npz\n",
      "INFO: Loaded 2902 ontology embeddings\n",
      "INFO: Loaded success: True\n",
      "INFO: CyteOntoMatcher initialized\n",
      "INFO: CyteOnto initialized with models: text='moonshotai/Kimi-K2-Instruct', embedding='Qwen/Qwen3-Embedding-8B'\n"
     ]
    }
   ],
   "source": [
    "# Initialize CyteOnto instance\n",
    "cyto = cyteonto.CyteOnto(\n",
    "    base_agent=agent,\n",
    "    embedding_model=\"Qwen/Qwen3-Embedding-8B\",\n",
    "    embedding_provider=\"deepinfra\",\n",
    ")"
   ]
  },
  {
   "cell_type": "code",
   "execution_count": 12,
   "id": "9ac5c161",
   "metadata": {},
   "outputs": [],
   "source": [
    "author_labels = [\"animal stem cell\", \"BFU-E\", \"CFU-M\", \"neutrophilic granuloblast\"]\n",
    "algorithm1_labels = [\"stem cell\", \"blast forming unit erythroid\", \"erythroid stem cell\", \"spermatogonium\"]\n",
    "algorithm2_labels = [\"neuronal receptor cell\", \"stem cell\", \"smooth muscle cell\", \"ovum\"]"
   ]
  },
  {
   "cell_type": "code",
   "execution_count": null,
   "id": "edb45a52",
   "metadata": {},
   "outputs": [],
   "source": [
    "# Perform batch comparison\n",
    "# This may take a while as the new embeddings are generated\n",
    "results_df = await cyto.compare_batch(\n",
    "    study_name=\"sample_study\",              # Save and cache all the results to this directory. Serves as a unique run id.\n",
    "    author_labels=author_labels,\n",
    "    algo_comparison_data=[\n",
    "        (\"algorithm1\", algorithm1_labels),\n",
    "        (\"algorithm2\", algorithm2_labels)\n",
    "    ],\n",
    ")"
   ]
  },
  {
   "cell_type": "markdown",
   "id": "4302b52b",
   "metadata": {},
   "source": [
    "The generated descriptions and embeddings are cached and stored at `cyteonto/data/user_files/descriptions/sample_study` and `cyteonto/data/user_files/embeddings/sample_study`."
   ]
  },
  {
   "cell_type": "markdown",
   "id": "cc90f2f0",
   "metadata": {},
   "source": [
    "## Custom Configuration\n",
    "\n",
    "You can customize the behavior of CyteOnto by modifying the configuration at initialization."
   ]
  },
  {
   "cell_type": "code",
   "execution_count": null,
   "id": "4e8a1529",
   "metadata": {},
   "outputs": [],
   "source": [
    "# Custom paths and settings\n",
    "await cyteonto.setup(\n",
    "    base_agent=agent,\n",
    "    embedding_model=\"text-embedding-ada-002\",\n",
    "    embedding_provider=\"openai\",\n",
    "    base_data_path=\"/custom/path/to/cl-embedding/data\"\n",
    ")\n",
    "\n",
    "cyto = cyteonto.CyteOnto(\n",
    "    base_agent=agent,\n",
    "    embedding_model=\"text-embedding-ada-002\",\n",
    "    embedding_provider=\"openai\",\n",
    "    base_data_path=\"/custom/path/to/cl-embedding/data\",     # Custom data location\n",
    "    user_data_path=\"/custom/path/to/user/files\",            # Custom user files location\n",
    "    enable_user_file_caching=True                           # Enable/disable caching\n",
    ")"
   ]
  },
  {
   "cell_type": "markdown",
   "id": "b1cd31a0",
   "metadata": {},
   "source": [
    "## Troubleshooting\n",
    "\n",
    "### Common Issues\n",
    "\n",
    "#### Setup Fails with Description Errors\n",
    "```bash\n",
    "# Error: Description Error: 'data'\n",
    "```\n",
    "**Solution**: Ensure you're using compatible model versions and check API connectivity.\n",
    "\n",
    "#### ParseError during Setup\n",
    "```bash\n",
    "# Error: ParseError: syntax error: line 1, column 0\n",
    "```\n",
    "**Solution**: The LLM is not returning valid JSON. Try a different model or check your API configuration.\n",
    "\n",
    "#### Connection Errors\n",
    "```bash\n",
    "# Error: ConnectionError: HTTPSConnectionPool...\n",
    "```\n",
    "**Solution**: Check your internet connection and API keys. CyteOnto gracefully handles PubMed API failures.\n",
    "\n",
    "### Debug Mode\n",
    "\n",
    "By default `CyteOnto` runs in at `INFO` debug level. You can enable more verbose logging by setting the logging level to `DEBUG`.\n",
    "\n",
    "```python\n",
    "import logging\n",
    "logging.basicConfig(level=logging.DEBUG)\n",
    "\n",
    "# CyteOnto will now show detailed progress information\n",
    "await cyto.compare_batch(author_labels, algo_data, study_name=\"debug_run\")\n",
    "```\n",
    "\n",
    "---"
   ]
  },
  {
   "cell_type": "code",
   "execution_count": null,
   "id": "b4afb13f",
   "metadata": {},
   "outputs": [],
   "source": []
  }
 ],
 "metadata": {
  "kernelspec": {
   "display_name": "cyteonto",
   "language": "python",
   "name": "python3"
  },
  "language_info": {
   "codemirror_mode": {
    "name": "ipython",
    "version": 3
   },
   "file_extension": ".py",
   "mimetype": "text/x-python",
   "name": "python",
   "nbconvert_exporter": "python",
   "pygments_lexer": "ipython3",
   "version": "3.13.6"
  }
 },
 "nbformat": 4,
 "nbformat_minor": 5
}
